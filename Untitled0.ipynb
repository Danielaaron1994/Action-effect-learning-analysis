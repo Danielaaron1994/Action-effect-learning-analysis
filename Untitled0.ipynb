{
  "nbformat": 4,
  "nbformat_minor": 0,
  "metadata": {
    "colab": {
      "name": "Untitled0.ipynb",
      "provenance": [],
      "collapsed_sections": [],
      "authorship_tag": "ABX9TyPcb1xEliWqXoAt1on9J2Pw",
      "include_colab_link": true
    },
    "kernelspec": {
      "name": "python3",
      "display_name": "Python 3"
    }
  },
  "cells": [
    {
      "cell_type": "markdown",
      "metadata": {
        "id": "view-in-github",
        "colab_type": "text"
      },
      "source": [
        "<a href=\"https://colab.research.google.com/github/Danielaaron1994/Action-effect-learning-analysis/blob/master/Untitled0.ipynb\" target=\"_parent\"><img src=\"https://colab.research.google.com/assets/colab-badge.svg\" alt=\"Open In Colab\"/></a>"
      ]
    },
    {
      "cell_type": "code",
      "metadata": {
        "id": "Qsd0u7Hck9Gh",
        "colab_type": "code",
        "colab": {}
      },
      "source": [
        "import pandas as pd\n",
        "import math\n",
        "import numpy as np\n"
      ],
      "execution_count": 1,
      "outputs": []
    },
    {
      "cell_type": "code",
      "metadata": {
        "id": "S7r474aHlKp2",
        "colab_type": "code",
        "colab": {
          "resources": {
            "http://localhost:8080/nbextensions/google.colab/files.js": {
              "data": "Ly8gQ29weXJpZ2h0IDIwMTcgR29vZ2xlIExMQwovLwovLyBMaWNlbnNlZCB1bmRlciB0aGUgQXBhY2hlIExpY2Vuc2UsIFZlcnNpb24gMi4wICh0aGUgIkxpY2Vuc2UiKTsKLy8geW91IG1heSBub3QgdXNlIHRoaXMgZmlsZSBleGNlcHQgaW4gY29tcGxpYW5jZSB3aXRoIHRoZSBMaWNlbnNlLgovLyBZb3UgbWF5IG9idGFpbiBhIGNvcHkgb2YgdGhlIExpY2Vuc2UgYXQKLy8KLy8gICAgICBodHRwOi8vd3d3LmFwYWNoZS5vcmcvbGljZW5zZXMvTElDRU5TRS0yLjAKLy8KLy8gVW5sZXNzIHJlcXVpcmVkIGJ5IGFwcGxpY2FibGUgbGF3IG9yIGFncmVlZCB0byBpbiB3cml0aW5nLCBzb2Z0d2FyZQovLyBkaXN0cmlidXRlZCB1bmRlciB0aGUgTGljZW5zZSBpcyBkaXN0cmlidXRlZCBvbiBhbiAiQVMgSVMiIEJBU0lTLAovLyBXSVRIT1VUIFdBUlJBTlRJRVMgT1IgQ09ORElUSU9OUyBPRiBBTlkgS0lORCwgZWl0aGVyIGV4cHJlc3Mgb3IgaW1wbGllZC4KLy8gU2VlIHRoZSBMaWNlbnNlIGZvciB0aGUgc3BlY2lmaWMgbGFuZ3VhZ2UgZ292ZXJuaW5nIHBlcm1pc3Npb25zIGFuZAovLyBsaW1pdGF0aW9ucyB1bmRlciB0aGUgTGljZW5zZS4KCi8qKgogKiBAZmlsZW92ZXJ2aWV3IEhlbHBlcnMgZm9yIGdvb2dsZS5jb2xhYiBQeXRob24gbW9kdWxlLgogKi8KKGZ1bmN0aW9uKHNjb3BlKSB7CmZ1bmN0aW9uIHNwYW4odGV4dCwgc3R5bGVBdHRyaWJ1dGVzID0ge30pIHsKICBjb25zdCBlbGVtZW50ID0gZG9jdW1lbnQuY3JlYXRlRWxlbWVudCgnc3BhbicpOwogIGVsZW1lbnQudGV4dENvbnRlbnQgPSB0ZXh0OwogIGZvciAoY29uc3Qga2V5IG9mIE9iamVjdC5rZXlzKHN0eWxlQXR0cmlidXRlcykpIHsKICAgIGVsZW1lbnQuc3R5bGVba2V5XSA9IHN0eWxlQXR0cmlidXRlc1trZXldOwogIH0KICByZXR1cm4gZWxlbWVudDsKfQoKLy8gTWF4IG51bWJlciBvZiBieXRlcyB3aGljaCB3aWxsIGJlIHVwbG9hZGVkIGF0IGEgdGltZS4KY29uc3QgTUFYX1BBWUxPQURfU0laRSA9IDEwMCAqIDEwMjQ7CgpmdW5jdGlvbiBfdXBsb2FkRmlsZXMoaW5wdXRJZCwgb3V0cHV0SWQpIHsKICBjb25zdCBzdGVwcyA9IHVwbG9hZEZpbGVzU3RlcChpbnB1dElkLCBvdXRwdXRJZCk7CiAgY29uc3Qgb3V0cHV0RWxlbWVudCA9IGRvY3VtZW50LmdldEVsZW1lbnRCeUlkKG91dHB1dElkKTsKICAvLyBDYWNoZSBzdGVwcyBvbiB0aGUgb3V0cHV0RWxlbWVudCB0byBtYWtlIGl0IGF2YWlsYWJsZSBmb3IgdGhlIG5leHQgY2FsbAogIC8vIHRvIHVwbG9hZEZpbGVzQ29udGludWUgZnJvbSBQeXRob24uCiAgb3V0cHV0RWxlbWVudC5zdGVwcyA9IHN0ZXBzOwoKICByZXR1cm4gX3VwbG9hZEZpbGVzQ29udGludWUob3V0cHV0SWQpOwp9CgovLyBUaGlzIGlzIHJvdWdobHkgYW4gYXN5bmMgZ2VuZXJhdG9yIChub3Qgc3VwcG9ydGVkIGluIHRoZSBicm93c2VyIHlldCksCi8vIHdoZXJlIHRoZXJlIGFyZSBtdWx0aXBsZSBhc3luY2hyb25vdXMgc3RlcHMgYW5kIHRoZSBQeXRob24gc2lkZSBpcyBnb2luZwovLyB0byBwb2xsIGZvciBjb21wbGV0aW9uIG9mIGVhY2ggc3RlcC4KLy8gVGhpcyB1c2VzIGEgUHJvbWlzZSB0byBibG9jayB0aGUgcHl0aG9uIHNpZGUgb24gY29tcGxldGlvbiBvZiBlYWNoIHN0ZXAsCi8vIHRoZW4gcGFzc2VzIHRoZSByZXN1bHQgb2YgdGhlIHByZXZpb3VzIHN0ZXAgYXMgdGhlIGlucHV0IHRvIHRoZSBuZXh0IHN0ZXAuCmZ1bmN0aW9uIF91cGxvYWRGaWxlc0NvbnRpbnVlKG91dHB1dElkKSB7CiAgY29uc3Qgb3V0cHV0RWxlbWVudCA9IGRvY3VtZW50LmdldEVsZW1lbnRCeUlkKG91dHB1dElkKTsKICBjb25zdCBzdGVwcyA9IG91dHB1dEVsZW1lbnQuc3RlcHM7CgogIGNvbnN0IG5leHQgPSBzdGVwcy5uZXh0KG91dHB1dEVsZW1lbnQubGFzdFByb21pc2VWYWx1ZSk7CiAgcmV0dXJuIFByb21pc2UucmVzb2x2ZShuZXh0LnZhbHVlLnByb21pc2UpLnRoZW4oKHZhbHVlKSA9PiB7CiAgICAvLyBDYWNoZSB0aGUgbGFzdCBwcm9taXNlIHZhbHVlIHRvIG1ha2UgaXQgYXZhaWxhYmxlIHRvIHRoZSBuZXh0CiAgICAvLyBzdGVwIG9mIHRoZSBnZW5lcmF0b3IuCiAgICBvdXRwdXRFbGVtZW50Lmxhc3RQcm9taXNlVmFsdWUgPSB2YWx1ZTsKICAgIHJldHVybiBuZXh0LnZhbHVlLnJlc3BvbnNlOwogIH0pOwp9CgovKioKICogR2VuZXJhdG9yIGZ1bmN0aW9uIHdoaWNoIGlzIGNhbGxlZCBiZXR3ZWVuIGVhY2ggYXN5bmMgc3RlcCBvZiB0aGUgdXBsb2FkCiAqIHByb2Nlc3MuCiAqIEBwYXJhbSB7c3RyaW5nfSBpbnB1dElkIEVsZW1lbnQgSUQgb2YgdGhlIGlucHV0IGZpbGUgcGlja2VyIGVsZW1lbnQuCiAqIEBwYXJhbSB7c3RyaW5nfSBvdXRwdXRJZCBFbGVtZW50IElEIG9mIHRoZSBvdXRwdXQgZGlzcGxheS4KICogQHJldHVybiB7IUl0ZXJhYmxlPCFPYmplY3Q+fSBJdGVyYWJsZSBvZiBuZXh0IHN0ZXBzLgogKi8KZnVuY3Rpb24qIHVwbG9hZEZpbGVzU3RlcChpbnB1dElkLCBvdXRwdXRJZCkgewogIGNvbnN0IGlucHV0RWxlbWVudCA9IGRvY3VtZW50LmdldEVsZW1lbnRCeUlkKGlucHV0SWQpOwogIGlucHV0RWxlbWVudC5kaXNhYmxlZCA9IGZhbHNlOwoKICBjb25zdCBvdXRwdXRFbGVtZW50ID0gZG9jdW1lbnQuZ2V0RWxlbWVudEJ5SWQob3V0cHV0SWQpOwogIG91dHB1dEVsZW1lbnQuaW5uZXJIVE1MID0gJyc7CgogIGNvbnN0IHBpY2tlZFByb21pc2UgPSBuZXcgUHJvbWlzZSgocmVzb2x2ZSkgPT4gewogICAgaW5wdXRFbGVtZW50LmFkZEV2ZW50TGlzdGVuZXIoJ2NoYW5nZScsIChlKSA9PiB7CiAgICAgIHJlc29sdmUoZS50YXJnZXQuZmlsZXMpOwogICAgfSk7CiAgfSk7CgogIGNvbnN0IGNhbmNlbCA9IGRvY3VtZW50LmNyZWF0ZUVsZW1lbnQoJ2J1dHRvbicpOwogIGlucHV0RWxlbWVudC5wYXJlbnRFbGVtZW50LmFwcGVuZENoaWxkKGNhbmNlbCk7CiAgY2FuY2VsLnRleHRDb250ZW50ID0gJ0NhbmNlbCB1cGxvYWQnOwogIGNvbnN0IGNhbmNlbFByb21pc2UgPSBuZXcgUHJvbWlzZSgocmVzb2x2ZSkgPT4gewogICAgY2FuY2VsLm9uY2xpY2sgPSAoKSA9PiB7CiAgICAgIHJlc29sdmUobnVsbCk7CiAgICB9OwogIH0pOwoKICAvLyBXYWl0IGZvciB0aGUgdXNlciB0byBwaWNrIHRoZSBmaWxlcy4KICBjb25zdCBmaWxlcyA9IHlpZWxkIHsKICAgIHByb21pc2U6IFByb21pc2UucmFjZShbcGlja2VkUHJvbWlzZSwgY2FuY2VsUHJvbWlzZV0pLAogICAgcmVzcG9uc2U6IHsKICAgICAgYWN0aW9uOiAnc3RhcnRpbmcnLAogICAgfQogIH07CgogIGNhbmNlbC5yZW1vdmUoKTsKCiAgLy8gRGlzYWJsZSB0aGUgaW5wdXQgZWxlbWVudCBzaW5jZSBmdXJ0aGVyIHBpY2tzIGFyZSBub3QgYWxsb3dlZC4KICBpbnB1dEVsZW1lbnQuZGlzYWJsZWQgPSB0cnVlOwoKICBpZiAoIWZpbGVzKSB7CiAgICByZXR1cm4gewogICAgICByZXNwb25zZTogewogICAgICAgIGFjdGlvbjogJ2NvbXBsZXRlJywKICAgICAgfQogICAgfTsKICB9CgogIGZvciAoY29uc3QgZmlsZSBvZiBmaWxlcykgewogICAgY29uc3QgbGkgPSBkb2N1bWVudC5jcmVhdGVFbGVtZW50KCdsaScpOwogICAgbGkuYXBwZW5kKHNwYW4oZmlsZS5uYW1lLCB7Zm9udFdlaWdodDogJ2JvbGQnfSkpOwogICAgbGkuYXBwZW5kKHNwYW4oCiAgICAgICAgYCgke2ZpbGUudHlwZSB8fCAnbi9hJ30pIC0gJHtmaWxlLnNpemV9IGJ5dGVzLCBgICsKICAgICAgICBgbGFzdCBtb2RpZmllZDogJHsKICAgICAgICAgICAgZmlsZS5sYXN0TW9kaWZpZWREYXRlID8gZmlsZS5sYXN0TW9kaWZpZWREYXRlLnRvTG9jYWxlRGF0ZVN0cmluZygpIDoKICAgICAgICAgICAgICAgICAgICAgICAgICAgICAgICAgICAgJ24vYSd9IC0gYCkpOwogICAgY29uc3QgcGVyY2VudCA9IHNwYW4oJzAlIGRvbmUnKTsKICAgIGxpLmFwcGVuZENoaWxkKHBlcmNlbnQpOwoKICAgIG91dHB1dEVsZW1lbnQuYXBwZW5kQ2hpbGQobGkpOwoKICAgIGNvbnN0IGZpbGVEYXRhUHJvbWlzZSA9IG5ldyBQcm9taXNlKChyZXNvbHZlKSA9PiB7CiAgICAgIGNvbnN0IHJlYWRlciA9IG5ldyBGaWxlUmVhZGVyKCk7CiAgICAgIHJlYWRlci5vbmxvYWQgPSAoZSkgPT4gewogICAgICAgIHJlc29sdmUoZS50YXJnZXQucmVzdWx0KTsKICAgICAgfTsKICAgICAgcmVhZGVyLnJlYWRBc0FycmF5QnVmZmVyKGZpbGUpOwogICAgfSk7CiAgICAvLyBXYWl0IGZvciB0aGUgZGF0YSB0byBiZSByZWFkeS4KICAgIGxldCBmaWxlRGF0YSA9IHlpZWxkIHsKICAgICAgcHJvbWlzZTogZmlsZURhdGFQcm9taXNlLAogICAgICByZXNwb25zZTogewogICAgICAgIGFjdGlvbjogJ2NvbnRpbnVlJywKICAgICAgfQogICAgfTsKCiAgICAvLyBVc2UgYSBjaHVua2VkIHNlbmRpbmcgdG8gYXZvaWQgbWVzc2FnZSBzaXplIGxpbWl0cy4gU2VlIGIvNjIxMTU2NjAuCiAgICBsZXQgcG9zaXRpb24gPSAwOwogICAgd2hpbGUgKHBvc2l0aW9uIDwgZmlsZURhdGEuYnl0ZUxlbmd0aCkgewogICAgICBjb25zdCBsZW5ndGggPSBNYXRoLm1pbihmaWxlRGF0YS5ieXRlTGVuZ3RoIC0gcG9zaXRpb24sIE1BWF9QQVlMT0FEX1NJWkUpOwogICAgICBjb25zdCBjaHVuayA9IG5ldyBVaW50OEFycmF5KGZpbGVEYXRhLCBwb3NpdGlvbiwgbGVuZ3RoKTsKICAgICAgcG9zaXRpb24gKz0gbGVuZ3RoOwoKICAgICAgY29uc3QgYmFzZTY0ID0gYnRvYShTdHJpbmcuZnJvbUNoYXJDb2RlLmFwcGx5KG51bGwsIGNodW5rKSk7CiAgICAgIHlpZWxkIHsKICAgICAgICByZXNwb25zZTogewogICAgICAgICAgYWN0aW9uOiAnYXBwZW5kJywKICAgICAgICAgIGZpbGU6IGZpbGUubmFtZSwKICAgICAgICAgIGRhdGE6IGJhc2U2NCwKICAgICAgICB9LAogICAgICB9OwogICAgICBwZXJjZW50LnRleHRDb250ZW50ID0KICAgICAgICAgIGAke01hdGgucm91bmQoKHBvc2l0aW9uIC8gZmlsZURhdGEuYnl0ZUxlbmd0aCkgKiAxMDApfSUgZG9uZWA7CiAgICB9CiAgfQoKICAvLyBBbGwgZG9uZS4KICB5aWVsZCB7CiAgICByZXNwb25zZTogewogICAgICBhY3Rpb246ICdjb21wbGV0ZScsCiAgICB9CiAgfTsKfQoKc2NvcGUuZ29vZ2xlID0gc2NvcGUuZ29vZ2xlIHx8IHt9OwpzY29wZS5nb29nbGUuY29sYWIgPSBzY29wZS5nb29nbGUuY29sYWIgfHwge307CnNjb3BlLmdvb2dsZS5jb2xhYi5fZmlsZXMgPSB7CiAgX3VwbG9hZEZpbGVzLAogIF91cGxvYWRGaWxlc0NvbnRpbnVlLAp9Owp9KShzZWxmKTsK",
              "ok": true,
              "headers": [
                [
                  "content-type",
                  "application/javascript"
                ]
              ],
              "status": 200,
              "status_text": ""
            }
          },
          "base_uri": "https://localhost:8080/",
          "height": 72
        },
        "outputId": "f1e5fd81-1c9d-4ecf-db0f-5a255e73be11"
      },
      "source": [
        "from google.colab import files\n",
        "uploaded = files.upload()\n"
      ],
      "execution_count": 2,
      "outputs": [
        {
          "output_type": "display_data",
          "data": {
            "text/html": [
              "\n",
              "     <input type=\"file\" id=\"files-db339a5b-ecc5-4e23-98d6-11b2f2d84e19\" name=\"files[]\" multiple disabled\n",
              "        style=\"border:none\" />\n",
              "     <output id=\"result-db339a5b-ecc5-4e23-98d6-11b2f2d84e19\">\n",
              "      Upload widget is only available when the cell has been executed in the\n",
              "      current browser session. Please rerun this cell to enable.\n",
              "      </output>\n",
              "      <script src=\"/nbextensions/google.colab/files.js\"></script> "
            ],
            "text/plain": [
              "<IPython.core.display.HTML object>"
            ]
          },
          "metadata": {
            "tags": []
          }
        },
        {
          "output_type": "stream",
          "text": [
            "Saving final pretouch dataset - Copy.csv to final pretouch dataset - Copy.csv\n"
          ],
          "name": "stdout"
        }
      ]
    },
    {
      "cell_type": "code",
      "metadata": {
        "id": "FzND0tlxlKj1",
        "colab_type": "code",
        "colab": {}
      },
      "source": [
        "import io\n",
        "df = pd.read_csv(io.BytesIO(uploaded['final pretouch dataset - Copy.csv']))"
      ],
      "execution_count": 3,
      "outputs": []
    },
    {
      "cell_type": "code",
      "metadata": {
        "id": "Gli09ZC1IJ7v",
        "colab_type": "code",
        "colab": {
          "base_uri": "https://localhost:8080/",
          "height": 34
        },
        "outputId": "1ad1dc29-637f-48ca-b4f9-3e46910839c2"
      },
      "source": [
        "print(df.columns)"
      ],
      "execution_count": 4,
      "outputs": [
        {
          "output_type": "stream",
          "text": [
            "Index(['Gender', 'AGENT G', 'VERT ', 'HORIZ', 'DISTANCE'], dtype='object')\n"
          ],
          "name": "stdout"
        }
      ]
    },
    {
      "cell_type": "code",
      "metadata": {
        "id": "zAV-79j7J1Ep",
        "colab_type": "code",
        "colab": {}
      },
      "source": [
        "def deg_to_rad(x):\n",
        "  return np.pi * x / 180"
      ],
      "execution_count": 5,
      "outputs": []
    },
    {
      "cell_type": "code",
      "metadata": {
        "id": "UlhP_7cNtD7b",
        "colab_type": "code",
        "colab": {}
      },
      "source": [
        "df['VERT_radian'] = deg_to_rad(df['VERT '])"
      ],
      "execution_count": 6,
      "outputs": []
    },
    {
      "cell_type": "code",
      "metadata": {
        "id": "vUaTrcgottG2",
        "colab_type": "code",
        "colab": {}
      },
      "source": [
        "df['HORIZ_radian'] = deg_to_rad(df['HORIZ'])"
      ],
      "execution_count": 7,
      "outputs": []
    },
    {
      "cell_type": "code",
      "metadata": {
        "id": "XcGxxc7ft95X",
        "colab_type": "code",
        "colab": {
          "base_uri": "https://localhost:8080/",
          "height": 204
        },
        "outputId": "83cf2c2c-92d3-4a6c-b272-9bb02d740b02"
      },
      "source": [
        "df.head()"
      ],
      "execution_count": 8,
      "outputs": [
        {
          "output_type": "execute_result",
          "data": {
            "text/html": [
              "<div>\n",
              "<style scoped>\n",
              "    .dataframe tbody tr th:only-of-type {\n",
              "        vertical-align: middle;\n",
              "    }\n",
              "\n",
              "    .dataframe tbody tr th {\n",
              "        vertical-align: top;\n",
              "    }\n",
              "\n",
              "    .dataframe thead th {\n",
              "        text-align: right;\n",
              "    }\n",
              "</style>\n",
              "<table border=\"1\" class=\"dataframe\">\n",
              "  <thead>\n",
              "    <tr style=\"text-align: right;\">\n",
              "      <th></th>\n",
              "      <th>Gender</th>\n",
              "      <th>AGENT G</th>\n",
              "      <th>VERT</th>\n",
              "      <th>HORIZ</th>\n",
              "      <th>DISTANCE</th>\n",
              "      <th>VERT_radian</th>\n",
              "      <th>HORIZ_radian</th>\n",
              "    </tr>\n",
              "  </thead>\n",
              "  <tbody>\n",
              "    <tr>\n",
              "      <th>0</th>\n",
              "      <td>2</td>\n",
              "      <td>2</td>\n",
              "      <td>10</td>\n",
              "      <td>-20</td>\n",
              "      <td>0.071402</td>\n",
              "      <td>0.174533</td>\n",
              "      <td>-0.349066</td>\n",
              "    </tr>\n",
              "    <tr>\n",
              "      <th>1</th>\n",
              "      <td>2</td>\n",
              "      <td>2</td>\n",
              "      <td>-20</td>\n",
              "      <td>10</td>\n",
              "      <td>0.125745</td>\n",
              "      <td>-0.349066</td>\n",
              "      <td>0.174533</td>\n",
              "    </tr>\n",
              "    <tr>\n",
              "      <th>2</th>\n",
              "      <td>2</td>\n",
              "      <td>2</td>\n",
              "      <td>-40</td>\n",
              "      <td>-25</td>\n",
              "      <td>0.120367</td>\n",
              "      <td>-0.698132</td>\n",
              "      <td>-0.436332</td>\n",
              "    </tr>\n",
              "    <tr>\n",
              "      <th>3</th>\n",
              "      <td>2</td>\n",
              "      <td>2</td>\n",
              "      <td>-40</td>\n",
              "      <td>-15</td>\n",
              "      <td>0.190486</td>\n",
              "      <td>-0.698132</td>\n",
              "      <td>-0.261799</td>\n",
              "    </tr>\n",
              "    <tr>\n",
              "      <th>4</th>\n",
              "      <td>2</td>\n",
              "      <td>2</td>\n",
              "      <td>30</td>\n",
              "      <td>25</td>\n",
              "      <td>0.074720</td>\n",
              "      <td>0.523599</td>\n",
              "      <td>0.436332</td>\n",
              "    </tr>\n",
              "  </tbody>\n",
              "</table>\n",
              "</div>"
            ],
            "text/plain": [
              "   Gender  AGENT G  VERT   HORIZ  DISTANCE  VERT_radian  HORIZ_radian\n",
              "0       2        2     10    -20  0.071402     0.174533     -0.349066\n",
              "1       2        2    -20     10  0.125745    -0.349066      0.174533\n",
              "2       2        2    -40    -25  0.120367    -0.698132     -0.436332\n",
              "3       2        2    -40    -15  0.190486    -0.698132     -0.261799\n",
              "4       2        2     30     25  0.074720     0.523599      0.436332"
            ]
          },
          "metadata": {
            "tags": []
          },
          "execution_count": 8
        }
      ]
    },
    {
      "cell_type": "code",
      "metadata": {
        "id": "aHrd-7XraqKR",
        "colab_type": "code",
        "colab": {}
      },
      "source": [
        "def x_calculator(r,phi,theta):\n",
        "  x = r * np.sin(theta) * np.cos(phi)\n",
        "  return x"
      ],
      "execution_count": 15,
      "outputs": []
    },
    {
      "cell_type": "code",
      "metadata": {
        "id": "ORwdrO83cDZP",
        "colab_type": "code",
        "colab": {}
      },
      "source": [
        "df['x_score'] = x_calculator(df['DISTANCE'], df['VERT_radian'], df['HORIZ_radian'])"
      ],
      "execution_count": 16,
      "outputs": []
    },
    {
      "cell_type": "code",
      "metadata": {
        "id": "c5rhR2b1TBmY",
        "colab_type": "code",
        "colab": {
          "base_uri": "https://localhost:8080/",
          "height": 204
        },
        "outputId": "797266d3-3a76-4452-d818-5fb69bf0282b"
      },
      "source": [
        "df.head(\n",
        ")"
      ],
      "execution_count": 17,
      "outputs": [
        {
          "output_type": "execute_result",
          "data": {
            "text/html": [
              "<div>\n",
              "<style scoped>\n",
              "    .dataframe tbody tr th:only-of-type {\n",
              "        vertical-align: middle;\n",
              "    }\n",
              "\n",
              "    .dataframe tbody tr th {\n",
              "        vertical-align: top;\n",
              "    }\n",
              "\n",
              "    .dataframe thead th {\n",
              "        text-align: right;\n",
              "    }\n",
              "</style>\n",
              "<table border=\"1\" class=\"dataframe\">\n",
              "  <thead>\n",
              "    <tr style=\"text-align: right;\">\n",
              "      <th></th>\n",
              "      <th>Gender</th>\n",
              "      <th>AGENT G</th>\n",
              "      <th>VERT</th>\n",
              "      <th>HORIZ</th>\n",
              "      <th>DISTANCE</th>\n",
              "      <th>VERT_radian</th>\n",
              "      <th>HORIZ_radian</th>\n",
              "      <th>x_score</th>\n",
              "    </tr>\n",
              "  </thead>\n",
              "  <tbody>\n",
              "    <tr>\n",
              "      <th>0</th>\n",
              "      <td>2</td>\n",
              "      <td>2</td>\n",
              "      <td>10</td>\n",
              "      <td>-20</td>\n",
              "      <td>0.071402</td>\n",
              "      <td>0.174533</td>\n",
              "      <td>-0.349066</td>\n",
              "      <td>-0.024050</td>\n",
              "    </tr>\n",
              "    <tr>\n",
              "      <th>1</th>\n",
              "      <td>2</td>\n",
              "      <td>2</td>\n",
              "      <td>-20</td>\n",
              "      <td>10</td>\n",
              "      <td>0.125745</td>\n",
              "      <td>-0.349066</td>\n",
              "      <td>0.174533</td>\n",
              "      <td>0.020519</td>\n",
              "    </tr>\n",
              "    <tr>\n",
              "      <th>2</th>\n",
              "      <td>2</td>\n",
              "      <td>2</td>\n",
              "      <td>-40</td>\n",
              "      <td>-25</td>\n",
              "      <td>0.120367</td>\n",
              "      <td>-0.698132</td>\n",
              "      <td>-0.436332</td>\n",
              "      <td>-0.038968</td>\n",
              "    </tr>\n",
              "    <tr>\n",
              "      <th>3</th>\n",
              "      <td>2</td>\n",
              "      <td>2</td>\n",
              "      <td>-40</td>\n",
              "      <td>-15</td>\n",
              "      <td>0.190486</td>\n",
              "      <td>-0.698132</td>\n",
              "      <td>-0.261799</td>\n",
              "      <td>-0.037767</td>\n",
              "    </tr>\n",
              "    <tr>\n",
              "      <th>4</th>\n",
              "      <td>2</td>\n",
              "      <td>2</td>\n",
              "      <td>30</td>\n",
              "      <td>25</td>\n",
              "      <td>0.074720</td>\n",
              "      <td>0.523599</td>\n",
              "      <td>0.436332</td>\n",
              "      <td>0.027347</td>\n",
              "    </tr>\n",
              "  </tbody>\n",
              "</table>\n",
              "</div>"
            ],
            "text/plain": [
              "   Gender  AGENT G  VERT   HORIZ  DISTANCE  VERT_radian  HORIZ_radian   x_score\n",
              "0       2        2     10    -20  0.071402     0.174533     -0.349066 -0.024050\n",
              "1       2        2    -20     10  0.125745    -0.349066      0.174533  0.020519\n",
              "2       2        2    -40    -25  0.120367    -0.698132     -0.436332 -0.038968\n",
              "3       2        2    -40    -15  0.190486    -0.698132     -0.261799 -0.037767\n",
              "4       2        2     30     25  0.074720     0.523599      0.436332  0.027347"
            ]
          },
          "metadata": {
            "tags": []
          },
          "execution_count": 17
        }
      ]
    },
    {
      "cell_type": "code",
      "metadata": {
        "id": "fxLqnImyaqtQ",
        "colab_type": "code",
        "colab": {}
      },
      "source": [
        "def y_calculator(r,phi,theta):\n",
        "  y = r * np.sin(theta) * np.sin(phi)\n",
        "  return y"
      ],
      "execution_count": 18,
      "outputs": []
    },
    {
      "cell_type": "code",
      "metadata": {
        "id": "G-8fieFjcEji",
        "colab_type": "code",
        "colab": {}
      },
      "source": [
        "df['y_score'] = y_calculator(df['DISTANCE'], df['VERT_radian'], df['HORIZ_radian'])"
      ],
      "execution_count": 19,
      "outputs": []
    },
    {
      "cell_type": "code",
      "metadata": {
        "id": "mK2jesYvarAJ",
        "colab_type": "code",
        "colab": {}
      },
      "source": [
        "def z_calculator(r,theta):\n",
        "  z = r * np.cos(theta)\n",
        "  return z"
      ],
      "execution_count": 20,
      "outputs": []
    },
    {
      "cell_type": "code",
      "metadata": {
        "id": "N3hsiaBmcDPN",
        "colab_type": "code",
        "colab": {}
      },
      "source": [
        "df['z_score'] = z_calculator(df['DISTANCE'], df['HORIZ_radian'])"
      ],
      "execution_count": 21,
      "outputs": []
    },
    {
      "cell_type": "code",
      "metadata": {
        "id": "8Su1UThCcC98",
        "colab_type": "code",
        "colab": {
          "base_uri": "https://localhost:8080/",
          "height": 1000
        },
        "outputId": "387d2776-d488-4d13-bd39-2f003e7e59f8"
      },
      "source": [
        "df.columns\n",
        "df.head(35)"
      ],
      "execution_count": 23,
      "outputs": [
        {
          "output_type": "execute_result",
          "data": {
            "text/html": [
              "<div>\n",
              "<style scoped>\n",
              "    .dataframe tbody tr th:only-of-type {\n",
              "        vertical-align: middle;\n",
              "    }\n",
              "\n",
              "    .dataframe tbody tr th {\n",
              "        vertical-align: top;\n",
              "    }\n",
              "\n",
              "    .dataframe thead th {\n",
              "        text-align: right;\n",
              "    }\n",
              "</style>\n",
              "<table border=\"1\" class=\"dataframe\">\n",
              "  <thead>\n",
              "    <tr style=\"text-align: right;\">\n",
              "      <th></th>\n",
              "      <th>Gender</th>\n",
              "      <th>AGENT G</th>\n",
              "      <th>VERT</th>\n",
              "      <th>HORIZ</th>\n",
              "      <th>DISTANCE</th>\n",
              "      <th>VERT_radian</th>\n",
              "      <th>HORIZ_radian</th>\n",
              "      <th>x_score</th>\n",
              "      <th>y_score</th>\n",
              "      <th>z_score</th>\n",
              "    </tr>\n",
              "  </thead>\n",
              "  <tbody>\n",
              "    <tr>\n",
              "      <th>0</th>\n",
              "      <td>2</td>\n",
              "      <td>2</td>\n",
              "      <td>10</td>\n",
              "      <td>-20</td>\n",
              "      <td>0.071402</td>\n",
              "      <td>0.174533</td>\n",
              "      <td>-0.349066</td>\n",
              "      <td>-0.024050</td>\n",
              "      <td>-0.004241</td>\n",
              "      <td>0.067096</td>\n",
              "    </tr>\n",
              "    <tr>\n",
              "      <th>1</th>\n",
              "      <td>2</td>\n",
              "      <td>2</td>\n",
              "      <td>-20</td>\n",
              "      <td>10</td>\n",
              "      <td>0.125745</td>\n",
              "      <td>-0.349066</td>\n",
              "      <td>0.174533</td>\n",
              "      <td>0.020519</td>\n",
              "      <td>-0.007468</td>\n",
              "      <td>0.123834</td>\n",
              "    </tr>\n",
              "    <tr>\n",
              "      <th>2</th>\n",
              "      <td>2</td>\n",
              "      <td>2</td>\n",
              "      <td>-40</td>\n",
              "      <td>-25</td>\n",
              "      <td>0.120367</td>\n",
              "      <td>-0.698132</td>\n",
              "      <td>-0.436332</td>\n",
              "      <td>-0.038968</td>\n",
              "      <td>0.032698</td>\n",
              "      <td>0.109089</td>\n",
              "    </tr>\n",
              "    <tr>\n",
              "      <th>3</th>\n",
              "      <td>2</td>\n",
              "      <td>2</td>\n",
              "      <td>-40</td>\n",
              "      <td>-15</td>\n",
              "      <td>0.190486</td>\n",
              "      <td>-0.698132</td>\n",
              "      <td>-0.261799</td>\n",
              "      <td>-0.037767</td>\n",
              "      <td>0.031690</td>\n",
              "      <td>0.183995</td>\n",
              "    </tr>\n",
              "    <tr>\n",
              "      <th>4</th>\n",
              "      <td>2</td>\n",
              "      <td>2</td>\n",
              "      <td>30</td>\n",
              "      <td>25</td>\n",
              "      <td>0.074720</td>\n",
              "      <td>0.523599</td>\n",
              "      <td>0.436332</td>\n",
              "      <td>0.027347</td>\n",
              "      <td>0.015789</td>\n",
              "      <td>0.067719</td>\n",
              "    </tr>\n",
              "    <tr>\n",
              "      <th>5</th>\n",
              "      <td>2</td>\n",
              "      <td>2</td>\n",
              "      <td>35</td>\n",
              "      <td>25</td>\n",
              "      <td>0.057808</td>\n",
              "      <td>0.610865</td>\n",
              "      <td>0.436332</td>\n",
              "      <td>0.020012</td>\n",
              "      <td>0.014013</td>\n",
              "      <td>0.052392</td>\n",
              "    </tr>\n",
              "    <tr>\n",
              "      <th>6</th>\n",
              "      <td>2</td>\n",
              "      <td>2</td>\n",
              "      <td>20</td>\n",
              "      <td>-30</td>\n",
              "      <td>0.075548</td>\n",
              "      <td>0.349066</td>\n",
              "      <td>-0.523599</td>\n",
              "      <td>-0.035496</td>\n",
              "      <td>-0.012920</td>\n",
              "      <td>0.065427</td>\n",
              "    </tr>\n",
              "    <tr>\n",
              "      <th>7</th>\n",
              "      <td>2</td>\n",
              "      <td>2</td>\n",
              "      <td>25</td>\n",
              "      <td>-15</td>\n",
              "      <td>0.079897</td>\n",
              "      <td>0.436332</td>\n",
              "      <td>-0.261799</td>\n",
              "      <td>-0.018741</td>\n",
              "      <td>-0.008739</td>\n",
              "      <td>0.077174</td>\n",
              "    </tr>\n",
              "    <tr>\n",
              "      <th>8</th>\n",
              "      <td>2</td>\n",
              "      <td>2</td>\n",
              "      <td>20</td>\n",
              "      <td>30</td>\n",
              "      <td>0.069609</td>\n",
              "      <td>0.349066</td>\n",
              "      <td>0.523599</td>\n",
              "      <td>0.032705</td>\n",
              "      <td>0.011904</td>\n",
              "      <td>0.060283</td>\n",
              "    </tr>\n",
              "    <tr>\n",
              "      <th>9</th>\n",
              "      <td>2</td>\n",
              "      <td>2</td>\n",
              "      <td>-30</td>\n",
              "      <td>20</td>\n",
              "      <td>0.105383</td>\n",
              "      <td>-0.523599</td>\n",
              "      <td>0.349066</td>\n",
              "      <td>0.031214</td>\n",
              "      <td>-0.018022</td>\n",
              "      <td>0.099028</td>\n",
              "    </tr>\n",
              "    <tr>\n",
              "      <th>10</th>\n",
              "      <td>2</td>\n",
              "      <td>2</td>\n",
              "      <td>-15</td>\n",
              "      <td>15</td>\n",
              "      <td>0.089657</td>\n",
              "      <td>-0.261799</td>\n",
              "      <td>0.261799</td>\n",
              "      <td>0.022414</td>\n",
              "      <td>-0.006006</td>\n",
              "      <td>0.086602</td>\n",
              "    </tr>\n",
              "    <tr>\n",
              "      <th>11</th>\n",
              "      <td>2</td>\n",
              "      <td>2</td>\n",
              "      <td>40</td>\n",
              "      <td>-10</td>\n",
              "      <td>0.063374</td>\n",
              "      <td>0.698132</td>\n",
              "      <td>-0.174533</td>\n",
              "      <td>-0.008430</td>\n",
              "      <td>-0.007074</td>\n",
              "      <td>0.062411</td>\n",
              "    </tr>\n",
              "    <tr>\n",
              "      <th>12</th>\n",
              "      <td>2</td>\n",
              "      <td>2</td>\n",
              "      <td>5</td>\n",
              "      <td>20</td>\n",
              "      <td>0.057546</td>\n",
              "      <td>0.087266</td>\n",
              "      <td>0.349066</td>\n",
              "      <td>0.019607</td>\n",
              "      <td>0.001715</td>\n",
              "      <td>0.054076</td>\n",
              "    </tr>\n",
              "    <tr>\n",
              "      <th>13</th>\n",
              "      <td>2</td>\n",
              "      <td>2</td>\n",
              "      <td>-45</td>\n",
              "      <td>25</td>\n",
              "      <td>0.145345</td>\n",
              "      <td>-0.785398</td>\n",
              "      <td>0.436332</td>\n",
              "      <td>0.043434</td>\n",
              "      <td>-0.043434</td>\n",
              "      <td>0.131727</td>\n",
              "    </tr>\n",
              "    <tr>\n",
              "      <th>14</th>\n",
              "      <td>2</td>\n",
              "      <td>2</td>\n",
              "      <td>-45</td>\n",
              "      <td>10</td>\n",
              "      <td>0.094631</td>\n",
              "      <td>-0.785398</td>\n",
              "      <td>0.174533</td>\n",
              "      <td>0.011620</td>\n",
              "      <td>-0.011620</td>\n",
              "      <td>0.093194</td>\n",
              "    </tr>\n",
              "    <tr>\n",
              "      <th>15</th>\n",
              "      <td>2</td>\n",
              "      <td>2</td>\n",
              "      <td>45</td>\n",
              "      <td>-25</td>\n",
              "      <td>0.051798</td>\n",
              "      <td>0.785398</td>\n",
              "      <td>-0.436332</td>\n",
              "      <td>-0.015479</td>\n",
              "      <td>-0.015479</td>\n",
              "      <td>0.046945</td>\n",
              "    </tr>\n",
              "    <tr>\n",
              "      <th>16</th>\n",
              "      <td>2</td>\n",
              "      <td>2</td>\n",
              "      <td>15</td>\n",
              "      <td>15</td>\n",
              "      <td>0.059186</td>\n",
              "      <td>0.261799</td>\n",
              "      <td>0.261799</td>\n",
              "      <td>0.014797</td>\n",
              "      <td>0.003965</td>\n",
              "      <td>0.057170</td>\n",
              "    </tr>\n",
              "    <tr>\n",
              "      <th>17</th>\n",
              "      <td>2</td>\n",
              "      <td>2</td>\n",
              "      <td>-25</td>\n",
              "      <td>-25</td>\n",
              "      <td>0.058107</td>\n",
              "      <td>-0.436332</td>\n",
              "      <td>-0.436332</td>\n",
              "      <td>-0.022256</td>\n",
              "      <td>0.010378</td>\n",
              "      <td>0.052663</td>\n",
              "    </tr>\n",
              "    <tr>\n",
              "      <th>18</th>\n",
              "      <td>2</td>\n",
              "      <td>2</td>\n",
              "      <td>35</td>\n",
              "      <td>-10</td>\n",
              "      <td>0.067339</td>\n",
              "      <td>0.610865</td>\n",
              "      <td>-0.174533</td>\n",
              "      <td>-0.009579</td>\n",
              "      <td>-0.006707</td>\n",
              "      <td>0.066316</td>\n",
              "    </tr>\n",
              "    <tr>\n",
              "      <th>19</th>\n",
              "      <td>2</td>\n",
              "      <td>2</td>\n",
              "      <td>-45</td>\n",
              "      <td>0</td>\n",
              "      <td>0.099919</td>\n",
              "      <td>-0.785398</td>\n",
              "      <td>0.000000</td>\n",
              "      <td>0.000000</td>\n",
              "      <td>-0.000000</td>\n",
              "      <td>0.099919</td>\n",
              "    </tr>\n",
              "    <tr>\n",
              "      <th>20</th>\n",
              "      <td>2</td>\n",
              "      <td>2</td>\n",
              "      <td>20</td>\n",
              "      <td>5</td>\n",
              "      <td>0.070743</td>\n",
              "      <td>0.349066</td>\n",
              "      <td>0.087266</td>\n",
              "      <td>0.005794</td>\n",
              "      <td>0.002109</td>\n",
              "      <td>0.070474</td>\n",
              "    </tr>\n",
              "    <tr>\n",
              "      <th>21</th>\n",
              "      <td>2</td>\n",
              "      <td>2</td>\n",
              "      <td>35</td>\n",
              "      <td>-20</td>\n",
              "      <td>0.054666</td>\n",
              "      <td>0.610865</td>\n",
              "      <td>-0.349066</td>\n",
              "      <td>-0.015316</td>\n",
              "      <td>-0.010724</td>\n",
              "      <td>0.051369</td>\n",
              "    </tr>\n",
              "    <tr>\n",
              "      <th>22</th>\n",
              "      <td>2</td>\n",
              "      <td>2</td>\n",
              "      <td>10</td>\n",
              "      <td>-30</td>\n",
              "      <td>0.057436</td>\n",
              "      <td>0.174533</td>\n",
              "      <td>-0.523599</td>\n",
              "      <td>-0.028282</td>\n",
              "      <td>-0.004987</td>\n",
              "      <td>0.049741</td>\n",
              "    </tr>\n",
              "    <tr>\n",
              "      <th>23</th>\n",
              "      <td>2</td>\n",
              "      <td>2</td>\n",
              "      <td>5</td>\n",
              "      <td>10</td>\n",
              "      <td>0.066727</td>\n",
              "      <td>0.087266</td>\n",
              "      <td>0.174533</td>\n",
              "      <td>0.011543</td>\n",
              "      <td>0.001010</td>\n",
              "      <td>0.065713</td>\n",
              "    </tr>\n",
              "    <tr>\n",
              "      <th>24</th>\n",
              "      <td>2</td>\n",
              "      <td>2</td>\n",
              "      <td>25</td>\n",
              "      <td>25</td>\n",
              "      <td>0.076859</td>\n",
              "      <td>0.436332</td>\n",
              "      <td>0.436332</td>\n",
              "      <td>0.029439</td>\n",
              "      <td>0.013727</td>\n",
              "      <td>0.069658</td>\n",
              "    </tr>\n",
              "    <tr>\n",
              "      <th>25</th>\n",
              "      <td>2</td>\n",
              "      <td>2</td>\n",
              "      <td>-30</td>\n",
              "      <td>-30</td>\n",
              "      <td>0.130651</td>\n",
              "      <td>-0.523599</td>\n",
              "      <td>-0.523599</td>\n",
              "      <td>-0.056573</td>\n",
              "      <td>0.032663</td>\n",
              "      <td>0.113147</td>\n",
              "    </tr>\n",
              "    <tr>\n",
              "      <th>26</th>\n",
              "      <td>2</td>\n",
              "      <td>2</td>\n",
              "      <td>30</td>\n",
              "      <td>30</td>\n",
              "      <td>0.060763</td>\n",
              "      <td>0.523599</td>\n",
              "      <td>0.523599</td>\n",
              "      <td>0.026311</td>\n",
              "      <td>0.015191</td>\n",
              "      <td>0.052622</td>\n",
              "    </tr>\n",
              "    <tr>\n",
              "      <th>27</th>\n",
              "      <td>2</td>\n",
              "      <td>2</td>\n",
              "      <td>15</td>\n",
              "      <td>-15</td>\n",
              "      <td>0.085035</td>\n",
              "      <td>0.261799</td>\n",
              "      <td>-0.261799</td>\n",
              "      <td>-0.021259</td>\n",
              "      <td>-0.005696</td>\n",
              "      <td>0.082138</td>\n",
              "    </tr>\n",
              "    <tr>\n",
              "      <th>28</th>\n",
              "      <td>2</td>\n",
              "      <td>2</td>\n",
              "      <td>-20</td>\n",
              "      <td>0</td>\n",
              "      <td>0.099728</td>\n",
              "      <td>-0.349066</td>\n",
              "      <td>0.000000</td>\n",
              "      <td>0.000000</td>\n",
              "      <td>-0.000000</td>\n",
              "      <td>0.099728</td>\n",
              "    </tr>\n",
              "    <tr>\n",
              "      <th>29</th>\n",
              "      <td>2</td>\n",
              "      <td>2</td>\n",
              "      <td>-15</td>\n",
              "      <td>-30</td>\n",
              "      <td>0.098330</td>\n",
              "      <td>-0.261799</td>\n",
              "      <td>-0.523599</td>\n",
              "      <td>-0.047490</td>\n",
              "      <td>0.012725</td>\n",
              "      <td>0.085156</td>\n",
              "    </tr>\n",
              "    <tr>\n",
              "      <th>30</th>\n",
              "      <td>2</td>\n",
              "      <td>2</td>\n",
              "      <td>40</td>\n",
              "      <td>-5</td>\n",
              "      <td>0.083928</td>\n",
              "      <td>0.698132</td>\n",
              "      <td>-0.087266</td>\n",
              "      <td>-0.005603</td>\n",
              "      <td>-0.004702</td>\n",
              "      <td>0.083609</td>\n",
              "    </tr>\n",
              "    <tr>\n",
              "      <th>31</th>\n",
              "      <td>2</td>\n",
              "      <td>2</td>\n",
              "      <td>0</td>\n",
              "      <td>-10</td>\n",
              "      <td>0.060854</td>\n",
              "      <td>0.000000</td>\n",
              "      <td>-0.174533</td>\n",
              "      <td>-0.010567</td>\n",
              "      <td>-0.000000</td>\n",
              "      <td>0.059929</td>\n",
              "    </tr>\n",
              "    <tr>\n",
              "      <th>32</th>\n",
              "      <td>2</td>\n",
              "      <td>2</td>\n",
              "      <td>5</td>\n",
              "      <td>-25</td>\n",
              "      <td>0.085352</td>\n",
              "      <td>0.087266</td>\n",
              "      <td>-0.436332</td>\n",
              "      <td>-0.035934</td>\n",
              "      <td>-0.003144</td>\n",
              "      <td>0.077355</td>\n",
              "    </tr>\n",
              "    <tr>\n",
              "      <th>33</th>\n",
              "      <td>2</td>\n",
              "      <td>2</td>\n",
              "      <td>45</td>\n",
              "      <td>-20</td>\n",
              "      <td>0.058251</td>\n",
              "      <td>0.785398</td>\n",
              "      <td>-0.349066</td>\n",
              "      <td>-0.014088</td>\n",
              "      <td>-0.014088</td>\n",
              "      <td>0.054738</td>\n",
              "    </tr>\n",
              "    <tr>\n",
              "      <th>34</th>\n",
              "      <td>2</td>\n",
              "      <td>2</td>\n",
              "      <td>-5</td>\n",
              "      <td>10</td>\n",
              "      <td>0.071304</td>\n",
              "      <td>-0.087266</td>\n",
              "      <td>0.174533</td>\n",
              "      <td>0.012335</td>\n",
              "      <td>-0.001079</td>\n",
              "      <td>0.070221</td>\n",
              "    </tr>\n",
              "  </tbody>\n",
              "</table>\n",
              "</div>"
            ],
            "text/plain": [
              "    Gender  AGENT G  VERT   HORIZ  ...  HORIZ_radian   x_score   y_score   z_score\n",
              "0        2        2     10    -20  ...     -0.349066 -0.024050 -0.004241  0.067096\n",
              "1        2        2    -20     10  ...      0.174533  0.020519 -0.007468  0.123834\n",
              "2        2        2    -40    -25  ...     -0.436332 -0.038968  0.032698  0.109089\n",
              "3        2        2    -40    -15  ...     -0.261799 -0.037767  0.031690  0.183995\n",
              "4        2        2     30     25  ...      0.436332  0.027347  0.015789  0.067719\n",
              "5        2        2     35     25  ...      0.436332  0.020012  0.014013  0.052392\n",
              "6        2        2     20    -30  ...     -0.523599 -0.035496 -0.012920  0.065427\n",
              "7        2        2     25    -15  ...     -0.261799 -0.018741 -0.008739  0.077174\n",
              "8        2        2     20     30  ...      0.523599  0.032705  0.011904  0.060283\n",
              "9        2        2    -30     20  ...      0.349066  0.031214 -0.018022  0.099028\n",
              "10       2        2    -15     15  ...      0.261799  0.022414 -0.006006  0.086602\n",
              "11       2        2     40    -10  ...     -0.174533 -0.008430 -0.007074  0.062411\n",
              "12       2        2      5     20  ...      0.349066  0.019607  0.001715  0.054076\n",
              "13       2        2    -45     25  ...      0.436332  0.043434 -0.043434  0.131727\n",
              "14       2        2    -45     10  ...      0.174533  0.011620 -0.011620  0.093194\n",
              "15       2        2     45    -25  ...     -0.436332 -0.015479 -0.015479  0.046945\n",
              "16       2        2     15     15  ...      0.261799  0.014797  0.003965  0.057170\n",
              "17       2        2    -25    -25  ...     -0.436332 -0.022256  0.010378  0.052663\n",
              "18       2        2     35    -10  ...     -0.174533 -0.009579 -0.006707  0.066316\n",
              "19       2        2    -45      0  ...      0.000000  0.000000 -0.000000  0.099919\n",
              "20       2        2     20      5  ...      0.087266  0.005794  0.002109  0.070474\n",
              "21       2        2     35    -20  ...     -0.349066 -0.015316 -0.010724  0.051369\n",
              "22       2        2     10    -30  ...     -0.523599 -0.028282 -0.004987  0.049741\n",
              "23       2        2      5     10  ...      0.174533  0.011543  0.001010  0.065713\n",
              "24       2        2     25     25  ...      0.436332  0.029439  0.013727  0.069658\n",
              "25       2        2    -30    -30  ...     -0.523599 -0.056573  0.032663  0.113147\n",
              "26       2        2     30     30  ...      0.523599  0.026311  0.015191  0.052622\n",
              "27       2        2     15    -15  ...     -0.261799 -0.021259 -0.005696  0.082138\n",
              "28       2        2    -20      0  ...      0.000000  0.000000 -0.000000  0.099728\n",
              "29       2        2    -15    -30  ...     -0.523599 -0.047490  0.012725  0.085156\n",
              "30       2        2     40     -5  ...     -0.087266 -0.005603 -0.004702  0.083609\n",
              "31       2        2      0    -10  ...     -0.174533 -0.010567 -0.000000  0.059929\n",
              "32       2        2      5    -25  ...     -0.436332 -0.035934 -0.003144  0.077355\n",
              "33       2        2     45    -20  ...     -0.349066 -0.014088 -0.014088  0.054738\n",
              "34       2        2     -5     10  ...      0.174533  0.012335 -0.001079  0.070221\n",
              "\n",
              "[35 rows x 10 columns]"
            ]
          },
          "metadata": {
            "tags": []
          },
          "execution_count": 23
        }
      ]
    },
    {
      "cell_type": "code",
      "metadata": {
        "id": "W9qIXWsAdkbo",
        "colab_type": "code",
        "colab": {
          "base_uri": "https://localhost:8080/",
          "height": 17
        },
        "outputId": "5210f84d-8ff0-47fb-d4c1-4b48ba2b1333"
      },
      "source": [
        "df.to_csv('x_y_z_added_df.csv') \n",
        "files.download('x_y_z_added_df.csv')"
      ],
      "execution_count": 24,
      "outputs": [
        {
          "output_type": "display_data",
          "data": {
            "application/javascript": [
              "\n",
              "    async function download(id, filename, size) {\n",
              "      if (!google.colab.kernel.accessAllowed) {\n",
              "        return;\n",
              "      }\n",
              "      const div = document.createElement('div');\n",
              "      const label = document.createElement('label');\n",
              "      label.textContent = `Downloading \"${filename}\": `;\n",
              "      div.appendChild(label);\n",
              "      const progress = document.createElement('progress');\n",
              "      progress.max = size;\n",
              "      div.appendChild(progress);\n",
              "      document.body.appendChild(div);\n",
              "\n",
              "      const buffers = [];\n",
              "      let downloaded = 0;\n",
              "\n",
              "      const channel = await google.colab.kernel.comms.open(id);\n",
              "      // Send a message to notify the kernel that we're ready.\n",
              "      channel.send({})\n",
              "\n",
              "      for await (const message of channel.messages) {\n",
              "        // Send a message to notify the kernel that we're ready.\n",
              "        channel.send({})\n",
              "        if (message.buffers) {\n",
              "          for (const buffer of message.buffers) {\n",
              "            buffers.push(buffer);\n",
              "            downloaded += buffer.byteLength;\n",
              "            progress.value = downloaded;\n",
              "          }\n",
              "        }\n",
              "      }\n",
              "      const blob = new Blob(buffers, {type: 'application/binary'});\n",
              "      const a = document.createElement('a');\n",
              "      a.href = window.URL.createObjectURL(blob);\n",
              "      a.download = filename;\n",
              "      div.appendChild(a);\n",
              "      a.click();\n",
              "      div.remove();\n",
              "    }\n",
              "  "
            ],
            "text/plain": [
              "<IPython.core.display.Javascript object>"
            ]
          },
          "metadata": {
            "tags": []
          }
        },
        {
          "output_type": "display_data",
          "data": {
            "application/javascript": [
              "download(\"download_1abd62d8-4c12-4142-a833-c2a6dd833a29\", \"x_y_z_added_df.csv\", 1193151)"
            ],
            "text/plain": [
              "<IPython.core.display.Javascript object>"
            ]
          },
          "metadata": {
            "tags": []
          }
        }
      ]
    },
    {
      "cell_type": "code",
      "metadata": {
        "id": "lHvZNpohkt2Y",
        "colab_type": "code",
        "colab": {}
      },
      "source": [
        "def r_calculator(x,y,z):\n",
        "  r = np.sqrt(np.power(x,2) + np.power(y,2) + np.power(z,2))\n",
        "  return r"
      ],
      "execution_count": null,
      "outputs": []
    },
    {
      "cell_type": "code",
      "metadata": {
        "id": "VqW2I2h0ei85",
        "colab_type": "code",
        "colab": {}
      },
      "source": [
        "df['r_score'] = r_calculator(df['HORIZ'], df['VERT '], df['DISTANCE'])"
      ],
      "execution_count": null,
      "outputs": []
    },
    {
      "cell_type": "code",
      "metadata": {
        "id": "qJSuuHHljtBc",
        "colab_type": "code",
        "colab": {}
      },
      "source": [
        "def azimuth_calculator(y,x):\n",
        "  z = np.arctan((y/x))\n",
        "  return z"
      ],
      "execution_count": null,
      "outputs": []
    },
    {
      "cell_type": "code",
      "metadata": {
        "id": "GqGl_0ldl0LQ",
        "colab_type": "code",
        "colab": {}
      },
      "source": [
        "df['z_score'] = azimuth_calculator(df['VERT '], df['HORIZ'])"
      ],
      "execution_count": null,
      "outputs": []
    },
    {
      "cell_type": "code",
      "metadata": {
        "id": "RvEH5nKkpVV2",
        "colab_type": "code",
        "colab": {}
      },
      "source": [
        "def theta_calculator(x,y,z):\n",
        "  theta = np.arctan(np.sqrt(np.power(x,2) + np.power(y,2)) / z )\n",
        "  return theta"
      ],
      "execution_count": null,
      "outputs": []
    },
    {
      "cell_type": "code",
      "metadata": {
        "id": "gfoPIAYAp5Wz",
        "colab_type": "code",
        "colab": {}
      },
      "source": [
        "df['theta_score'] = theta_calculator(df['HORIZ'], df['VERT '], df['DISTANCE'])"
      ],
      "execution_count": null,
      "outputs": []
    },
    {
      "cell_type": "code",
      "metadata": {
        "id": "RYPreMJar3IO",
        "colab_type": "code",
        "colab": {
          "base_uri": "https://localhost:8080/",
          "height": 255
        },
        "outputId": "03ed0eb9-c20a-414a-bbe7-94c9f64f1bdf"
      },
      "source": [
        "print(df)"
      ],
      "execution_count": null,
      "outputs": [
        {
          "output_type": "stream",
          "text": [
            "      Gender  AGENT G  VERT   HORIZ  ...     theta    r_score   z_score  theta_score\n",
            "0          2        2     10    -20  ...  1.567603  22.360794 -0.463648     1.567603\n",
            "1          2        2    -20     10  ...  1.565173  22.361033 -1.107149     1.565173\n",
            "2          2        2    -40    -25  ...  1.568245  47.170059  1.012197     1.568245\n",
            "3          2        2    -40    -15  ...  1.566337  42.720443  1.212026     1.566337\n",
            "4          2        2     30     25  ...  1.568883  39.051320  0.876058     1.568883\n",
            "...      ...      ...    ...    ...  ...       ...        ...       ...          ...\n",
            "9636       1        1    -10     30  ...  1.563958  31.623516 -0.321751     1.563958\n",
            "9637       1        1    -10     20  ...  1.560064  22.361968 -0.463648     1.560064\n",
            "9638       1        1      0     25  ...  1.561168  25.001159  0.000000     1.561168\n",
            "9639       1        1    -10     -5  ...  1.546791  11.183562  1.107149     1.546791\n",
            "9640       1        1    -45    -25  ...  1.565376  51.478907  1.063698     1.565376\n",
            "\n",
            "[9641 rows x 11 columns]\n"
          ],
          "name": "stdout"
        }
      ]
    },
    {
      "cell_type": "code",
      "metadata": {
        "id": "44iV4E5ysAj3",
        "colab_type": "code",
        "colab": {}
      },
      "source": [
        "import matplotlib.pyplot as plt\n",
        "from matplotlib import cm, colors\n",
        "from mpl_toolkits.mplot3d import Axes3D\n",
        "import numpy as np\n",
        "from scipy.special import sph_harm"
      ],
      "execution_count": null,
      "outputs": []
    },
    {
      "cell_type": "code",
      "metadata": {
        "id": "NWY9LbX2jns0",
        "colab_type": "code",
        "colab": {
          "base_uri": "https://localhost:8080/",
          "height": 68
        },
        "outputId": "ad22c64b-a668-4b1b-81b0-654e8016e1ea"
      },
      "source": [
        "phi = df['HORIZ']\n",
        "print(phi.shape)\n",
        "theta = df['VERT ']\n",
        "print(theta.shape)\n",
        "\n",
        "phi, theta = np.meshgrid(phi, theta)\n",
        "print(phi.shape)\n",
        "\n",
        "r = df['DISTANCE']\n"
      ],
      "execution_count": null,
      "outputs": [
        {
          "output_type": "stream",
          "text": [
            "(9641,)\n",
            "(9641,)\n",
            "(9641, 9641)\n"
          ],
          "name": "stdout"
        }
      ]
    },
    {
      "cell_type": "code",
      "metadata": {
        "id": "ay8Y8k38lLfc",
        "colab_type": "code",
        "colab": {
          "base_uri": "https://localhost:8080/",
          "height": 34
        },
        "outputId": "2b523095-754d-4268-925f-b41fb3c41552"
      },
      "source": [
        "# The Cartesian coordinates of the unit sphere\n",
        "x = np.sin(phi) * np.cos(theta) \n",
        "print(x.shape)\n",
        "y = np.sin(phi) * np.sin(theta)\n",
        "z = np.cos(phi) \n",
        "\n",
        "m, l = 2, 3\n",
        "\n"
      ],
      "execution_count": null,
      "outputs": [
        {
          "output_type": "stream",
          "text": [
            "(9641, 9641)\n"
          ],
          "name": "stdout"
        }
      ]
    },
    {
      "cell_type": "code",
      "metadata": {
        "id": "TGCKNtVsleTR",
        "colab_type": "code",
        "colab": {}
      },
      "source": [
        "# Calculate the spherical harmonic Y(l,m) and normalize to [0,1]\n",
        "fcolors = sph_harm(m, l, theta, phi).real\n",
        "fmax, fmin = fcolors.max(), fcolors.min()\n",
        "fcolors = (fcolors - fmin)/(fmax - fmin)\n",
        "\n"
      ],
      "execution_count": null,
      "outputs": []
    },
    {
      "cell_type": "code",
      "metadata": {
        "id": "rT9D2YQb4mji",
        "colab_type": "code",
        "colab": {}
      },
      "source": [
        "# Set the aspect ratio to 1 so our sphere looks spherical\n",
        "fig = plt.figure(figsize=plt.figaspect(1.))\n",
        "ax = fig.add_subplot(111, projection='3d')\n",
        "ax.plot_surface(x, y, z,  rstride=1, cstride=1, facecolors=cm.seismic(fcolors))\n",
        "# Turn off the axis planes\n",
        "ax.set_axis_off()\n",
        "plt.show()"
      ],
      "execution_count": null,
      "outputs": []
    },
    {
      "cell_type": "code",
      "metadata": {
        "id": "0zfXyiiV5G9f",
        "colab_type": "code",
        "colab": {}
      },
      "source": [
        ""
      ],
      "execution_count": null,
      "outputs": []
    },
    {
      "cell_type": "markdown",
      "metadata": {
        "id": "IT18CwOzOUY-",
        "colab_type": "text"
      },
      "source": [
        ""
      ]
    }
  ]
}